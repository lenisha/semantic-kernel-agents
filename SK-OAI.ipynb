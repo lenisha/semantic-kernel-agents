{
 "cells": [
  {
   "cell_type": "markdown",
   "metadata": {},
   "source": [
    "## Semantic Function Calling"
   ]
  },
  {
   "cell_type": "code",
   "execution_count": 1,
   "metadata": {
    "dotnet_interactive": {
     "language": "csharp"
    },
    "polyglot_notebook": {
     "kernelName": "csharp"
    }
   },
   "outputs": [
    {
     "data": {
      "text/html": [
       "<div><div></div><div></div><div><strong>Installed Packages</strong><ul><li><span>dotenv.net, 3.2.0</span></li><li><span>Microsoft.SemanticKernel, 1.19.0</span></li><li><span>Microsoft.SemanticKernel.Connectors.AzureOpenAI, 1.19.0</span></li><li><span>microsoft.semantickernel.connectors.openai, 1.19.0</span></li></ul></div></div>"
      ]
     },
     "metadata": {},
     "output_type": "display_data"
    }
   ],
   "source": [
    "#r \"nuget:Microsoft.SemanticKernel\"\n",
    "#r \"nuget: dotenv.net\"\n",
    "#r \"nuget:Microsoft.SemanticKernel.Connectors.OpenAI\"\n",
    "#r \"nuget:Microsoft.SemanticKernel.Connectors.AzureOpenAI\""
   ]
  },
  {
   "cell_type": "code",
   "execution_count": 22,
   "metadata": {
    "dotnet_interactive": {
     "language": "csharp"
    },
    "polyglot_notebook": {
     "kernelName": "csharp"
    }
   },
   "outputs": [
    {
     "name": "stdout",
     "output_type": "stream",
     "text": [
      "Using deployment: gpt-4o at https://scribeai.openai.azure.com/ with key 9c439...\n"
     ]
    }
   ],
   "source": [
    "using dotenv.net;\n",
    "\n",
    "DotEnv.Load();\n",
    "var deploymentName = Environment.GetEnvironmentVariable(\"AZURE_OPENAI_DEPLOYMENT\");\n",
    "var endpoint = Environment.GetEnvironmentVariable(\"AZURE_OPENAI_ENDPOINT\");\n",
    "var apiKey = Environment.GetEnvironmentVariable(\"AZURE_OPENAI_KEY\");\n",
    "Console.WriteLine($\"Using deployment: {deploymentName} at {endpoint} with key {apiKey.Substring(0, 5)}...\");\n",
    "     "
   ]
  },
  {
   "cell_type": "code",
   "execution_count": 2,
   "metadata": {
    "dotnet_interactive": {
     "language": "csharp"
    },
    "polyglot_notebook": {
     "kernelName": "csharp"
    }
   },
   "outputs": [],
   "source": [
    "using System.ComponentModel;\n",
    "using Microsoft.SemanticKernel;\n",
    "using System.Text.Json.Serialization;\n",
    "\n",
    "public class EmailPlugin\n",
    "{\n",
    "    [KernelFunction(\"send_email\")]\n",
    "    [Description(\"Sends an email to a recipient.\")]\n",
    "    public async Task SendEmailAsync(\n",
    "        Kernel kernel,\n",
    "        List<string> recipientEmails,\n",
    "        string subject,\n",
    "        string body\n",
    "    )\n",
    "    {\n",
    "        // Add logic to send an email using the recipientEmails, subject, and body\n",
    "        // For now, we'll just print out a success message to the console\n",
    "        Console.WriteLine(\"Email sent!\");\n",
    "        Console.WriteLine($\"Recipients: {string.Join(\", \", recipientEmails)}\");\n",
    "        Console.WriteLine($\"Subject: {subject}\");\n",
    "        Console.WriteLine($\"Body: {body}\");\n",
    "        \n",
    "    }\n",
    "}\n",
    "\n",
    "public class EventModel\n",
    "{\n",
    "   [JsonPropertyName(\"id\")]\n",
    "   public int Id { get; set; }\n",
    "\n",
    "   [JsonPropertyName(\"name\")]\n",
    "   public string Name { get; set; }\n",
    "}\n",
    "\n",
    "public class CalendarPlugin\n",
    "{\n",
    "    [KernelFunction(\"get_calendar_events\")]\n",
    "    [Description(\"Gets calendar events for a given date.\")]\n",
    "    public async Task<List<EventModel>> GetCalendarAsync(\n",
    "        Kernel kernel,\n",
    "        List<string> recipientEmails,\n",
    "        System.DateTime date\n",
    "    )\n",
    "    {\n",
    "        // Add logic to get calendar events for recipientEmails on the given date\n",
    "        // For now, we'll just print out a success message to the console\n",
    "        Console.WriteLine(\"Calendar Events\");\n",
    "        Console.WriteLine($\"Recipients: {string.Join(\", \", recipientEmails)}\");\n",
    "        Console.WriteLine($\"date: {date}\");\n",
    "\n",
    "        // Call Graph API to get calendar events !!!!!\n",
    "\n",
    "        return   new()\n",
    "            {\n",
    "                new EventModel { Id = 1, Name = \"Soccer practice\" },\n",
    "                new EventModel { Id = 2, Name = \"Date night\"},\n",
    "                new EventModel { Id = 3, Name = \"Dentist appointment\" }\n",
    "            };\n",
    "    }\n",
    "}"
   ]
  },
  {
   "cell_type": "markdown",
   "metadata": {},
   "source": [
    "# ASK Boss for Vacation"
   ]
  },
  {
   "cell_type": "code",
   "execution_count": 12,
   "metadata": {
    "dotnet_interactive": {
     "language": "csharp"
    },
    "polyglot_notebook": {
     "kernelName": "csharp"
    }
   },
   "outputs": [
    {
     "name": "stdout",
     "output_type": "stream",
     "text": [
      " --------------------------------\n",
      "Email sent!\n",
      "Recipients: boss@gmail.com\n",
      "Subject: Vacation Request for October 15th and 16th\n",
      "Body: Dear [Boss's Name],\n",
      "\n",
      "I hope this message finds you well. I am writing to formally request vacation days on October 15th and 16th. I have ensured that all my tasks and responsibilities will be handled in my absence.\n",
      "\n",
      "Your approval for these days off would be greatly appreciated.\n",
      "\n",
      "Thank you for considering my request. Please let me know if you need any additional information.\n",
      "\n",
      "Best regards,\n",
      "Elena\n",
      " --------------------------------\n",
      " Email : Your email request for vacation days on October 15th and 16th has been sent to your boss at boss@gmail.com.\n",
      " --------------------------------\n"
     ]
    }
   ],
   "source": [
    "using Microsoft.SemanticKernel;\n",
    "using Microsoft.SemanticKernel.Connectors.AzureOpenAI;\n",
    "using Microsoft.SemanticKernel.Connectors.OpenAI;\n",
    "using Microsoft.SemanticKernel.ChatCompletion;\n",
    "\n",
    "\n",
    "\n",
    "// Create kernel with an email plugin\n",
    "var builder = Kernel.CreateBuilder();\n",
    "builder.Plugins.AddFromType<EmailPlugin>();\n",
    "builder.Plugins.AddFromType<CalendarPlugin>();\n",
    "Kernel kernel = builder.Build();\n",
    "\n",
    "// Create chat completion service\n",
    "\n",
    "AzureOpenAIChatCompletionService chatCompletionService = new (\n",
    "    deploymentName: deploymentName,\n",
    "    apiKey: apiKey,\n",
    "    endpoint: endpoint\n",
    " );\n",
    "\n",
    "// Enable planning\n",
    "OpenAIPromptExecutionSettings openAIPromptExecutionSettings = new() \n",
    "{\n",
    "    ToolCallBehavior = ToolCallBehavior.AutoInvokeKernelFunctions\n",
    "};\n",
    "Console.WriteLine($\" --------------------------------\");\n",
    "// Create chat history\n",
    "var history = new ChatHistory();\n",
    "history.AddUserMessage(\"Can you help me Elena write an email for my boss at boss@gmail.com subject: oh mine asking for vacation for days of Oct 15th and 16th in professional tone?\");\n",
    "\n",
    "// Get the response from the AI\n",
    "var result = await chatCompletionService.GetChatMessageContentAsync(\n",
    "    history,\n",
    "    executionSettings: openAIPromptExecutionSettings,\n",
    "    kernel: kernel\n",
    ");\n",
    "\n",
    "Console.WriteLine($\" --------------------------------\");\n",
    "Console.WriteLine($\" Email : {result}\");\n",
    "Console.WriteLine($\" --------------------------------\");\n",
    "\n"
   ]
  },
  {
   "cell_type": "markdown",
   "metadata": {},
   "source": [
    "# ASK Calendar events for vacation time"
   ]
  },
  {
   "cell_type": "code",
   "execution_count": 4,
   "metadata": {
    "dotnet_interactive": {
     "language": "csharp"
    },
    "polyglot_notebook": {
     "kernelName": "csharp"
    }
   },
   "outputs": [
    {
     "name": "stdout",
     "output_type": "stream",
     "text": [
      " --------------------------------\n",
      " Vacation events : Here are your events for the vacation days (October 15th and 16th):\n",
      "\n",
      "**October 15th:**\n",
      "1. Soccer practice\n",
      "2. Date night\n",
      "3. Dentist appointment\n",
      "\n",
      "**October 16th:**\n",
      "1. Soccer practice\n",
      "2. Date night\n",
      "3. Dentist appointment\n"
     ]
    }
   ],
   "source": [
    "history.AddUserMessage(\"What are my events for vacation days,list all of them \");\n",
    "\n",
    "// Get the response from the AI\n",
    "var vacresult = await chatCompletionService.GetChatMessageContentAsync(\n",
    "    history,\n",
    "    executionSettings: openAIPromptExecutionSettings,\n",
    "    kernel: kernel\n",
    ");\n",
    "Console.WriteLine($\" --------------------------------\");\n",
    "Console.WriteLine($\" Vacation events : {vacresult}\");"
   ]
  }
 ],
 "metadata": {
  "kernelspec": {
   "display_name": ".NET (C#)",
   "language": "C#",
   "name": ".net-csharp"
  },
  "polyglot_notebook": {
   "kernelInfo": {
    "defaultKernelName": "csharp",
    "items": [
     {
      "aliases": [],
      "languageName": "csharp",
      "name": "csharp"
     }
    ]
   }
  }
 },
 "nbformat": 4,
 "nbformat_minor": 2
}
