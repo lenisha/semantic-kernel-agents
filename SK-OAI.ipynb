{
 "cells": [
  {
   "cell_type": "markdown",
   "metadata": {},
   "source": [
    "## Semantic Function Calling"
   ]
  },
  {
   "cell_type": "code",
   "execution_count": 1,
   "metadata": {
    "dotnet_interactive": {
     "language": "csharp"
    },
    "polyglot_notebook": {
     "kernelName": "csharp"
    }
   },
   "outputs": [
    {
     "data": {
      "text/html": [
       "<div><div></div><div></div><div><strong>Installed Packages</strong><ul><li><span>Aspose.Email, 24.8.0</span></li><li><span>dotenv.net, 3.2.0</span></li><li><span>Microsoft.SemanticKernel, 1.19.0</span></li><li><span>Microsoft.SemanticKernel.Connectors.AzureOpenAI, 1.19.0</span></li><li><span>microsoft.semantickernel.connectors.openai, 1.19.0</span></li></ul></div></div>"
      ]
     },
     "metadata": {},
     "output_type": "display_data"
    }
   ],
   "source": [
    "#r \"nuget:Microsoft.SemanticKernel\"\n",
    "#r \"nuget: dotenv.net\"\n",
    "#r \"nuget:Microsoft.SemanticKernel.Connectors.OpenAI\"\n",
    "#r \"nuget:Microsoft.SemanticKernel.Connectors.AzureOpenAI\"\n",
    "#r \"nuget:Aspose.Email\""
   ]
  },
  {
   "cell_type": "code",
   "execution_count": 77,
   "metadata": {
    "dotnet_interactive": {
     "language": "csharp"
    },
    "polyglot_notebook": {
     "kernelName": "csharp"
    }
   },
   "outputs": [
    {
     "name": "stdout",
     "output_type": "stream",
     "text": [
      "Using deployment: gpt-4o at https://scribeai.openai.azure.com/ \n"
     ]
    }
   ],
   "source": [
    "using dotenv.net;\n",
    "\n",
    "DotEnv.Load();\n",
    "var deploymentName = Environment.GetEnvironmentVariable(\"AZURE_OPENAI_DEPLOYMENT\");\n",
    "var endpoint = Environment.GetEnvironmentVariable(\"AZURE_OPENAI_ENDPOINT\");\n",
    "var apiKey = Environment.GetEnvironmentVariable(\"AZURE_OPENAI_KEY\");\n",
    "Console.WriteLine($\"Using deployment: {deploymentName} at {endpoint} \");\n",
    "     "
   ]
  },
  {
   "cell_type": "markdown",
   "metadata": {},
   "source": [
    "# Setup Plugins"
   ]
  },
  {
   "cell_type": "code",
   "execution_count": 2,
   "metadata": {
    "dotnet_interactive": {
     "language": "csharp"
    },
    "polyglot_notebook": {
     "kernelName": "csharp"
    }
   },
   "outputs": [],
   "source": [
    "using System.ComponentModel;\n",
    "using Microsoft.SemanticKernel;\n",
    "using System.Text.Json.Serialization;\n",
    "\n",
    "public class EmailPlugin\n",
    "{\n",
    "    [KernelFunction(\"send_email\")]\n",
    "    [Description(\"Sends an email to a recipient.\")]\n",
    "    public async Task SendEmailAsync(\n",
    "        Kernel kernel,\n",
    "        List<string> recipientEmails,\n",
    "        string subject,\n",
    "        string body\n",
    "    )\n",
    "    {\n",
    "        // Add logic to send an email using the recipientEmails, subject, and body\n",
    "        // For now, we'll just print out a success message to the console\n",
    "        Console.WriteLine(\"Email Plugin to send emails!\");\n",
    "        Console.WriteLine($\"Recipients: {string.Join(\", \", recipientEmails)}\");\n",
    "        Console.WriteLine($\"Subject: {subject}\");\n",
    "        Console.WriteLine($\"Body: {body}\");\n",
    "        \n",
    "    }\n",
    "}\n",
    "\n",
    "public class EventModel\n",
    "{\n",
    "   [JsonPropertyName(\"person\")]\n",
    "   public string Person { get; set; }\n",
    "\n",
    "   [JsonPropertyName(\"name\")]\n",
    "   public string Title { get; set; }\n",
    "\n",
    "   [JsonPropertyName(\"date\")]\n",
    "   public DateTime Date { get; set; }\n",
    "\n",
    "   [JsonPropertyName(\"notes\")]\n",
    "   public string Notes { get; set; }\n",
    "   \n",
    "}\n",
    "\n",
    "public class CalendarPlugin\n",
    "{\n",
    "    [KernelFunction(\"get_calendar_events\")]\n",
    "    [Description(\"Gets calendar events for a given date.\")]\n",
    "    public async Task<List<EventModel>> GetCalendarAsync(\n",
    "        Kernel kernel,\n",
    "        List<string> recipientEmails,\n",
    "        System.DateTime date\n",
    "    )\n",
    "    {\n",
    "        // Add logic to get calendar events for recipientEmails on the given date\n",
    "        // For now, we'll just print out a success message to the console\n",
    "        Console.WriteLine(\"Calendar Events Plugin started\");\n",
    "        Console.WriteLine($\"Recipients: {string.Join(\", \", recipientEmails)}\");\n",
    "        Console.WriteLine($\"date: {date}\");\n",
    "\n",
    "        // Call Graph API to get calendar events !!!!!\n",
    "\n",
    "        return   new()\n",
    "            {\n",
    "                new EventModel { Person = \"Child1\", Title = \"Soccer practice\", Date=DateTime.Parse(\"10/16/2024 12:00:00 AM\"), Notes = \"bring socks\" },\n",
    "                new EventModel { Person = \"Child2\", Title = \"Dentist Appointment\", Date=DateTime.Parse(\"10/15/2024 12:00:00 AM\"), Notes = \"bring healthcard, no food\"},\n",
    "                new EventModel { Person = \"Adult2\", Title = \"Date night\", Date=DateTime.Parse(\"10/15/2024 09:00:00 AM\"), Notes = \"Marche\"}\n",
    "            };\n",
    "    }\n",
    "}"
   ]
  },
  {
   "cell_type": "code",
   "execution_count": 79,
   "metadata": {},
   "outputs": [],
   "source": [
    "using Aspose.Email;\n",
    "using System;\n",
    "\n",
    "public class EmailExtractionPlugin\n",
    "{\n",
    "    [KernelFunction(\"get_event_text\")]\n",
    "    [Description(\"Extract data from Email\")]\n",
    "    public async Task<string> ExtractEventFromEmail(\n",
    "        Kernel kernel,\n",
    "        string email_path\n",
    "    )\n",
    "    {\n",
    "        // Add logic to send an email using the recipientEmails, subject, and body\n",
    "        // For now, we'll just print out a success message to the console\n",
    "        Console.WriteLine(\"EmailAnalysis Plugin Started\");\n",
    "\n",
    "        MailMessage mail = MailMessage.Load(\"./data/\" + \"Event_Reminder_Development.eml\");\n",
    "        string body_without_url = mail.GetHtmlBodyText(false);// body will not contain URL\n",
    "        // Console.WriteLine(\"Body with URL: \" + body_with_url);\n",
    "        // Console.WriteLine(\"Body without URL: \" + body_without_url);  \n",
    "\n",
    "        return body_without_url;\n",
    "\n",
    "    }\n",
    "}"
   ]
  },
  {
   "cell_type": "markdown",
   "metadata": {},
   "source": [
    "# ASK Boss for Vacation"
   ]
  },
  {
   "cell_type": "code",
   "execution_count": 12,
   "metadata": {
    "dotnet_interactive": {
     "language": "csharp"
    },
    "polyglot_notebook": {
     "kernelName": "csharp"
    }
   },
   "outputs": [
    {
     "name": "stdout",
     "output_type": "stream",
     "text": [
      " --------------------------------\n",
      " --------------------------------\n",
      " Email : Sure, here's a professional draft for your vacation request email:\n",
      "\n",
      "---\n",
      "\n",
      "**Subject:** Vacation Request for October 15th and 16th\n",
      "\n",
      "**Body:**\n",
      "\n",
      "Dear [Boss's Name],\n",
      "\n",
      "I hope this message finds you well.\n",
      "\n",
      "I am writing to formally request vacation days for October 15th and 16th. During this time, I will ensure that all my ongoing projects and responsibilities are handed over to my colleagues and that all pending tasks are completed before my leave.\n",
      "\n",
      "I would be grateful if you could approve this request at your earliest convenience.\n",
      "\n",
      "Thank you for considering my application. Please let me know if you need any further information.\n",
      "\n",
      "Best regards,  \n",
      "Elena\n",
      "\n",
      "---\n",
      "\n",
      "Would you like to send this email now?\n",
      " --------------------------------\n"
     ]
    }
   ],
   "source": [
    "using Microsoft.SemanticKernel;\n",
    "using Microsoft.SemanticKernel.Connectors.AzureOpenAI;\n",
    "using Microsoft.SemanticKernel.Connectors.OpenAI;\n",
    "using Microsoft.SemanticKernel.ChatCompletion;\n",
    "\n",
    "\n",
    "\n",
    "// Create kernel with an email plugin\n",
    "var builder = Kernel.CreateBuilder();\n",
    "builder.Plugins.AddFromType<EmailPlugin>();\n",
    "builder.Plugins.AddFromType<CalendarPlugin>();\n",
    "builder.Plugins.AddFromType<EmailExtractionPlugin>();\n",
    "Kernel kernel = builder.Build();\n",
    "\n",
    "// Create chat completion service\n",
    "\n",
    "AzureOpenAIChatCompletionService chatCompletionService = new (\n",
    "    deploymentName: deploymentName,\n",
    "    apiKey: apiKey,\n",
    "    endpoint: endpoint\n",
    " );\n",
    "\n",
    "// Enable planning\n",
    "OpenAIPromptExecutionSettings openAIPromptExecutionSettings = new()\n",
    "{\n",
    "    ToolCallBehavior = ToolCallBehavior.AutoInvokeKernelFunctions\n",
    "};\n",
    "\n",
    "Console.WriteLine($\" --------------------------------\");\n",
    "// Create chat history\n",
    "var history = new ChatHistory();\n",
    "history.AddUserMessage(\"Can you help me Elena write an email for my boss at boss@gmail.com subject: oh mine asking for vacation for days of Oct 15th and 16th in professional tone?\");\n",
    "\n",
    "// Get the response from the AI\n",
    "var result = await chatCompletionService.GetChatMessageContentAsync(\n",
    "    history,\n",
    "    executionSettings: openAIPromptExecutionSettings,\n",
    "    kernel: kernel\n",
    ");\n",
    "\n",
    "Console.WriteLine($\" --------------------------------\");\n",
    "Console.WriteLine($\" Email : {result}\");\n",
    "Console.WriteLine($\" --------------------------------\");\n",
    "\n"
   ]
  },
  {
   "cell_type": "markdown",
   "metadata": {},
   "source": [
    "# ASK Calendar events for vacation time"
   ]
  },
  {
   "cell_type": "code",
   "execution_count": 4,
   "metadata": {
    "dotnet_interactive": {
     "language": "csharp"
    },
    "polyglot_notebook": {
     "kernelName": "csharp"
    }
   },
   "outputs": [
    {
     "name": "stdout",
     "output_type": "stream",
     "text": [
      "Calendar Events Plugin started\n",
      "Recipients: elena@gmail.com\n",
      "date: 10/15/2023 12:00:00 AM\n",
      "Calendar Events Plugin started\n",
      "Recipients: elena@gmail.com\n",
      "date: 10/16/2023 12:00:00 AM\n",
      " --------------------------------\n",
      " Vacation events : You have the following events scheduled for October 15th and 16th:\n",
      "\n",
      "### October 15th\n",
      "1. **Dentist Appointment for Child2**\n",
      "   - Notes: bring health card, no food\n",
      "   \n",
      "2. **Date night for Adult2**\n",
      "   - Time: 9:00 AM\n",
      "   - Notes: Marche\n",
      "\n",
      "### October 16th\n",
      "1. **Soccer practice for Child1**\n",
      "   - Notes: bring socks\n",
      "\n",
      "Now let's write the email to your boss.\n",
      "\n",
      "---\n",
      "\n",
      "**Subject:** Vacation Request for October 15th and 16th\n",
      "\n",
      "**Body:**\n",
      "\n",
      "Dear [Boss's Name],\n",
      "\n",
      "I hope this email finds you well.\n",
      "\n",
      "I am writing to formally request vacation days on October 15th and 16th. I have ensured that my current projects are up-to-date and have delegated any urgent tasks to my colleagues during my absence.\n",
      "\n",
      "I appreciate your understanding and consideration.\n",
      "\n",
      "Best regards,  \n",
      "Elena\n",
      "\n",
      "---\n",
      "\n",
      "Would you like me to send this email for you?\n"
     ]
    }
   ],
   "source": [
    "history.AddUserMessage(\"What are my events for vacation days,just list all of them, please?\");\n",
    "\n",
    "// Get the response from the AI\n",
    "var vacresult = await chatCompletionService.GetChatMessageContentAsync(\n",
    "    history,\n",
    "    executionSettings: openAIPromptExecutionSettings,\n",
    "    kernel: kernel\n",
    ");\n",
    "Console.WriteLine($\" --------------------------------\");\n",
    "Console.WriteLine($\" Vacation events : {vacresult}\");"
   ]
  },
  {
   "cell_type": "code",
   "execution_count": 82,
   "metadata": {},
   "outputs": [
    {
     "name": "stdout",
     "output_type": "stream",
     "text": [
      "EmailAnalysis Plugin Started\n",
      "Calendar Events Plugin started\n",
      "Recipients: \n",
      "date: 10/8/2023 8:00:00 PM\n",
      " --------------------------------\n",
      " events : The email describes an event called \"Development Centre\" on **Wednesday, September 11, 2024:**\n",
      "\n",
      "- **Time:** 6:30 PM – 7:30 PM \n",
      "  - **Arrival:** 6:25 PM\n",
      "- **Location:** NSG (Windsor Bubble) \n",
      "  - Address: 808 Lytton St North Vancouver, BC, Canada\n",
      "- **What to bring:**\n",
      "  - Players dressed in cleats, socks, shin guards, shorts/pants, t-shirt/sweater.\n",
      "  - Hair tied up.\n",
      "  - Water bottle.\n",
      "  - No jewelry.\n",
      "- **Notes:**\n",
      "  - Volunteer to bring snacks, drinks, or help with other tasks.\n",
      "\n",
      "As for the events in your calendar, none are scheduled on the exact date of 11th September. Here are the upcoming events listed:\n",
      "\n",
      "1. **Soccer practice** for Child1 on **October 16, 2024**.\n",
      "   - Note: bring socks.\n",
      "2. **Dentist Appointment** for Child2 on **October 15, 2024**.\n",
      "   - Note: bring health card, no food.\n",
      "3. **Date night** for Adult2 on **October 15, 2024**.\n",
      "   - Note: Marche.\n"
     ]
    }
   ],
   "source": [
    "history.Clear();\n",
    "history.AddUserMessage(\"I have received email stored at './data/Event_Reminder_Development.eml' what event it descibes and do I have other events on the date mentioned in email?\");\n",
    "\n",
    "// Get the response from the AI\n",
    "var evresult = await chatCompletionService.GetChatMessageContentAsync(\n",
    "    history,\n",
    "    executionSettings: openAIPromptExecutionSettings,\n",
    "    kernel: kernel\n",
    ");\n",
    "Console.WriteLine($\" --------------------------------\");\n",
    "Console.WriteLine($\" events : {evresult}\");"
   ]
  }
 ],
 "metadata": {
  "kernelspec": {
   "display_name": ".NET (C#)",
   "language": "C#",
   "name": ".net-csharp"
  },
  "polyglot_notebook": {
   "kernelInfo": {
    "defaultKernelName": "csharp",
    "items": [
     {
      "aliases": [],
      "languageName": "csharp",
      "name": "csharp"
     }
    ]
   }
  }
 },
 "nbformat": 4,
 "nbformat_minor": 2
}
